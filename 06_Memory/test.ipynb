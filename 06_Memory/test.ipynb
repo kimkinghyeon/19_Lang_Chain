{
 "cells": [
  {
   "cell_type": "code",
   "execution_count": 27,
   "metadata": {},
   "outputs": [
    {
     "data": {
      "text/plain": [
       "True"
      ]
     },
     "execution_count": 27,
     "metadata": {},
     "output_type": "execute_result"
    }
   ],
   "source": [
    "from dotenv import load_dotenv\n",
    "\n",
    "load_dotenv()"
   ]
  },
  {
   "cell_type": "code",
   "execution_count": null,
   "metadata": {},
   "outputs": [],
   "source": [
    "from langchain_openai import ChatOpenAI\n",
    "\n",
    "from langchain.chains import ConversationChain\n",
    "\n",
    "from langchain.memory import ConversationBufferMemory\n",
    "\n",
    "llm = ChatOpenAI(\n",
    "    temperature=0,\n",
    "    model='gpt-4o'\n",
    ")\n",
    "\n",
    "conversation = ConversationChain(\n",
    "    llm = llm,\n",
    "    memory = ConversationBufferMemory(),\n",
    "    verbose=True\n",
    ")"
   ]
  },
  {
   "cell_type": "code",
   "execution_count": 36,
   "metadata": {},
   "outputs": [
    {
     "name": "stdout",
     "output_type": "stream",
     "text": [
      "네, 방금 전에 \"지온줌 다이쿤\"과 \"샤아 아즈나불\"에 대해 질문하셨습니다. \"지온줌 다이쿤\"에 대한 정보는 잘 모르겠다고 말씀드렸고, \"샤아 아즈나불\"에 대해서는 그의 배경과 건담 시리즈에서의 역할에 대해 설명드렸습니다. 다른 질문이나 더 알고 싶은 것이 있으면 언제든지 말씀해 주세요!\n"
     ]
    }
   ],
   "source": [
    "response = conversation.predict(\n",
    "    input='내가한 질문을 기억해?'\n",
    ")\n",
    "print(response)"
   ]
  },
  {
   "cell_type": "code",
   "execution_count": 38,
   "metadata": {},
   "outputs": [
    {
     "name": "stdout",
     "output_type": "stream",
     "text": [
      "memory=ConversationBufferMemory(chat_memory=InMemoryChatMessageHistory(messages=[HumanMessage(content='지온줌 다이쿤?', additional_kwargs={}, response_metadata={}), AIMessage(content='죄송하지만, \"지온줌 다이쿤\"에 대한 정보를 잘 모르겠어요. 혹시 다른 질문이나 주제가 있으면 말씀해 주세요!', additional_kwargs={}, response_metadata={}), HumanMessage(content='샤아 아즈나불', additional_kwargs={}, response_metadata={}), AIMessage(content='샤아 아즈나불은 인기 있는 애니메이션 시리즈 \"기동전사 건담\"에 등장하는 캐릭터입니다. 그는 지온 공국의 에이스 파일럿으로, 뛰어난 전투 능력과 전략적 사고로 유명합니다. 샤아는 붉은색 모빌 슈트를 주로 사용하여 \"붉은 혜성\"이라는 별명을 가지고 있습니다. 그의 복잡한 배경과 동기, 그리고 주인공 아무로 레이와의 라이벌 관계는 시리즈의 주요 스토리라인 중 하나입니다. 샤아는 또한 가면을 쓰고 다니며, 그의 진짜 정체는 지온 공국의 창시자인 지온 줌 다이쿤의 아들인 카스발 렘 다이쿤입니다. 이 캐릭터는 많은 팬들에게 사랑받고 있으며, 건담 시리즈의 상징적인 인물 중 하나로 자리 잡고 있습니다.', additional_kwargs={}, response_metadata={}), HumanMessage(content='내가한 질문을 기억해?', additional_kwargs={}, response_metadata={}), AIMessage(content='네, 방금 전에 \"지온줌 다이쿤\"과 \"샤아 아즈나불\"에 대해 질문하셨습니다. \"지온줌 다이쿤\"에 대한 정보는 잘 모르겠다고 말씀드렸고, \"샤아 아즈나불\"에 대해서는 그의 배경과 건담 시리즈에서의 역할에 대해 설명드렸습니다. 다른 질문이나 더 알고 싶은 것이 있으면 언제든지 말씀해 주세요!', additional_kwargs={}, response_metadata={})])) verbose=False llm=ChatOpenAI(client=<openai.resources.chat.completions.Completions object at 0x000001F592F94D90>, async_client=<openai.resources.chat.completions.AsyncCompletions object at 0x000001F592F9CA10>, root_client=<openai.OpenAI object at 0x000001F592F2B110>, root_async_client=<openai.AsyncOpenAI object at 0x000001F592F94F50>, model_name='gpt-4o', temperature=0.0, model_kwargs={}, openai_api_key=SecretStr('**********')) output_parser=StrOutputParser() llm_kwargs={}\n"
     ]
    }
   ],
   "source": [
    "print(conversation)"
   ]
  }
 ],
 "metadata": {
  "kernelspec": {
   "display_name": "langchain_env",
   "language": "python",
   "name": "python3"
  },
  "language_info": {
   "codemirror_mode": {
    "name": "ipython",
    "version": 3
   },
   "file_extension": ".py",
   "mimetype": "text/x-python",
   "name": "python",
   "nbconvert_exporter": "python",
   "pygments_lexer": "ipython3",
   "version": "3.11.10"
  }
 },
 "nbformat": 4,
 "nbformat_minor": 2
}
