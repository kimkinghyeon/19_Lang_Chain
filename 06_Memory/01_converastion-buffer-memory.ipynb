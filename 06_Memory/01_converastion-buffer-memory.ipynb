{
 "cells": [
  {
   "cell_type": "markdown",
   "metadata": {},
   "source": [
    "### ConversationBufferMemory\n",
    "\n",
    "- 메세지를 저장하고, 다음 변수에 메세지를 추출 할 수 있게 해준다."
   ]
  },
  {
   "cell_type": "markdown",
   "metadata": {},
   "source": [
    "**save_context(inputs,outputs) 메소드를 활용해 대화기록을 저장**\n",
    "\n",
    "* inputs : 사용자의 입력\n",
    "* outputs : ai 의 출력\n",
    "* 이후 load_memory_variables 메서드를 이용해 저장된 대화기록을 확인"
   ]
  },
  {
   "cell_type": "code",
   "execution_count": 1,
   "metadata": {},
   "outputs": [
    {
     "name": "stderr",
     "output_type": "stream",
     "text": [
      "C:\\Users\\20115\\AppData\\Local\\Temp\\ipykernel_17356\\18450286.py:4: LangChainDeprecationWarning: Please see the migration guide at: https://python.langchain.com/docs/versions/migrating_memory/\n",
      "  memory = ConversationBufferMemory()\n"
     ]
    }
   ],
   "source": [
    "from langchain.memory import ConversationBufferMemory\n",
    "\n",
    "# 메모리 객체\n",
    "memory = ConversationBufferMemory()\n",
    "\n",
    "memory.save_context(\n",
    "    inputs={\n",
    "        \"human\" : \"안녕하세요, 제주도 여행을 계획중인데 추철할 만한 곳이 있을까요.?\"\n",
    "        },\n",
    "    outputs={\n",
    "        \"ai\" : \"안녕하세요.! 제주도 여행을 도와드리게 되어 기쁩니다. 언제 방문하실 예정인가요.?\"\n",
    "    }\n",
    ")"
   ]
  },
  {
   "cell_type": "code",
   "execution_count": 2,
   "metadata": {},
   "outputs": [
    {
     "data": {
      "text/plain": [
       "ConversationBufferMemory(chat_memory=InMemoryChatMessageHistory(messages=[HumanMessage(content='안녕하세요, 제주도 여행을 계획중인데 추철할 만한 곳이 있을까요.?', additional_kwargs={}, response_metadata={}), AIMessage(content='안녕하세요.! 제주도 여행을 도와드리게 되어 기쁩니다. 언제 방문하실 예정인가요.?', additional_kwargs={}, response_metadata={})]))"
      ]
     },
     "execution_count": 2,
     "metadata": {},
     "output_type": "execute_result"
    }
   ],
   "source": [
    "memory"
   ]
  },
  {
   "cell_type": "code",
   "execution_count": 9,
   "metadata": {},
   "outputs": [
    {
     "name": "stdout",
     "output_type": "stream",
     "text": [
      "Human: 안녕하세요, 제주도 여행을 계획중인데 추철할 만한 곳이 있을까요.?\n",
      "AI: 안녕하세요.! 제주도 여행을 도와드리게 되어 기쁩니다. 언제 방문하실 예정인가요.?\n",
      "Human: 5월 초에 3박 4일로 방문할 예정입니다.\n",
      "AI: 5월은 제주도의 봄을 만끽하기 좋은 시기입니다. 우도, 성산일출봉, 카페거리 등을 추천드립니다. 구체적인 일정을 함께 계획해볼까요?\n",
      "Human: 네, 일정 계획을 도와주시면 감사하겠습니다.\n",
      "AI: 첫째 날은 제주 공항에서 렌터카를 픽업하신 후, 함덕 해수욕장과 카페거리를 둘러보시는 것을 추천드립니다. 둘째 날은 성산일출봉과 우도 투어, 셋째 날은 한라산 등반이나 올레길 산책은 어떠신가요?\n"
     ]
    }
   ],
   "source": [
    "print(memory.load_memory_variables({})[\"history\"])"
   ]
  },
  {
   "cell_type": "code",
   "execution_count": 8,
   "metadata": {},
   "outputs": [],
   "source": [
    "memory.save_context(\n",
    "    inputs={\"human\": \"5월 초에 3박 4일로 방문할 예정입니다.\"},\n",
    "    outputs={\n",
    "        \"ai\": \"5월은 제주도의 봄을 만끽하기 좋은 시기입니다. 우도, 성산일출봉, 카페거리 등을 추천드립니다. 구체적인 일정을 함께 계획해볼까요?\"\n",
    "    },\n",
    ")\n",
    "memory.save_context(\n",
    "    inputs={\"human\": \"네, 일정 계획을 도와주시면 감사하겠습니다.\"},\n",
    "    outputs={\n",
    "        \"ai\": \"첫째 날은 제주 공항에서 렌터카를 픽업하신 후, 함덕 해수욕장과 카페거리를 둘러보시는 것을 추천드립니다. 둘째 날은 성산일출봉과 우도 투어, 셋째 날은 한라산 등반이나 올레길 산책은 어떠신가요?\"\n",
    "    },\n",
    ")"
   ]
  },
  {
   "cell_type": "markdown",
   "metadata": {},
   "source": [
    "return_messages=True 설정\n",
    "- 출력시 HumanMassage 와 AiMassage 객체로 반환해준다."
   ]
  },
  {
   "cell_type": "code",
   "execution_count": 11,
   "metadata": {},
   "outputs": [],
   "source": [
    "memory = ConversationBufferMemory(return_messages=True)\n",
    "\n",
    "memory.save_context(\n",
    "    inputs={\n",
    "        \"human\" : \"안녕하세요, 제주도 여행을 계획중인데 추철할 만한 곳이 있을까요.?\"\n",
    "        },\n",
    "    outputs={\n",
    "        \"ai\" : \"안녕하세요.! 제주도 여행을 도와드리게 되어 기쁩니다. 언제 방문하실 예정인가요.?\"\n",
    "    }\n",
    ")\n",
    "\n",
    "memory.save_context(\n",
    "    inputs={\"human\": \"5월 초에 3박 4일로 방문할 예정입니다.\"},\n",
    "    outputs={\n",
    "        \"ai\": \"5월은 제주도의 봄을 만끽하기 좋은 시기입니다. 우도, 성산일출봉, 카페거리 등을 추천드립니다. 구체적인 일정을 함께 계획해볼까요?\"\n",
    "    },\n",
    ")\n",
    "memory.save_context(\n",
    "    inputs={\"human\": \"네, 일정 계획을 도와주시면 감사하겠습니다.\"},\n",
    "    outputs={\n",
    "        \"ai\": \"첫째 날은 제주 공항에서 렌터카를 픽업하신 후, 함덕 해수욕장과 카페거리를 둘러보시는 것을 추천드립니다. 둘째 날은 성산일출봉과 우도 투어, 셋째 날은 한라산 등반이나 올레길 산책은 어떠신가요?\"\n",
    "    },\n",
    ")"
   ]
  },
  {
   "cell_type": "code",
   "execution_count": 12,
   "metadata": {},
   "outputs": [
    {
     "name": "stdout",
     "output_type": "stream",
     "text": [
      "[HumanMessage(content='안녕하세요, 제주도 여행을 계획중인데 추철할 만한 곳이 있을까요.?', additional_kwargs={}, response_metadata={}), AIMessage(content='안녕하세요.! 제주도 여행을 도와드리게 되어 기쁩니다. 언제 방문하실 예정인가요.?', additional_kwargs={}, response_metadata={}), HumanMessage(content='5월 초에 3박 4일로 방문할 예정입니다.', additional_kwargs={}, response_metadata={}), AIMessage(content='5월은 제주도의 봄을 만끽하기 좋은 시기입니다. 우도, 성산일출봉, 카페거리 등을 추천드립니다. 구체적인 일정을 함께 계획해볼까요?', additional_kwargs={}, response_metadata={}), HumanMessage(content='네, 일정 계획을 도와주시면 감사하겠습니다.', additional_kwargs={}, response_metadata={}), AIMessage(content='첫째 날은 제주 공항에서 렌터카를 픽업하신 후, 함덕 해수욕장과 카페거리를 둘러보시는 것을 추천드립니다. 둘째 날은 성산일출봉과 우도 투어, 셋째 날은 한라산 등반이나 올레길 산책은 어떠신가요?', additional_kwargs={}, response_metadata={})]\n"
     ]
    }
   ],
   "source": [
    "print(memory.load_memory_variables({})[\"history\"])"
   ]
  },
  {
   "cell_type": "markdown",
   "metadata": {},
   "source": [
    "Chain 에 연결"
   ]
  },
  {
   "cell_type": "code",
   "execution_count": 13,
   "metadata": {},
   "outputs": [
    {
     "data": {
      "text/plain": [
       "True"
      ]
     },
     "execution_count": 13,
     "metadata": {},
     "output_type": "execute_result"
    }
   ],
   "source": [
    "from dotenv import load_dotenv\n",
    "\n",
    "load_dotenv()"
   ]
  },
  {
   "cell_type": "code",
   "execution_count": 14,
   "metadata": {},
   "outputs": [
    {
     "name": "stderr",
     "output_type": "stream",
     "text": [
      "C:\\Users\\20115\\AppData\\Local\\Temp\\ipykernel_17356\\581729170.py:10: LangChainDeprecationWarning: The class `ConversationChain` was deprecated in LangChain 0.2.7 and will be removed in 1.0. Use :meth:`~RunnableWithMessageHistory: https://python.langchain.com/v0.2/api_reference/core/runnables/langchain_core.runnables.history.RunnableWithMessageHistory.html` instead.\n",
      "  conversation = ConversationChain(\n"
     ]
    }
   ],
   "source": [
    "from langchain_openai import ChatOpenAI\n",
    "\n",
    "from langchain.chains import ConversationChain\n",
    "\n",
    "llm = ChatOpenAI(\n",
    "    temperature=0,\n",
    "    model='gpt-4o'\n",
    ")\n",
    "\n",
    "conversation = ConversationChain(\n",
    "    llm = llm,\n",
    "    memory = ConversationBufferMemory()\n",
    ")"
   ]
  },
  {
   "cell_type": "code",
   "execution_count": 19,
   "metadata": {},
   "outputs": [
    {
     "name": "stdout",
     "output_type": "stream",
     "text": [
      "물론이죠! 여기 몇 가지 다른 이탈리안 피자를 마크다운 문법으로 추천해드릴게요:\n",
      "\n",
      "1. **카프리치오사 피자**\n",
      "   - 재료: 토마토 소스, 모짜렐라 치즈, 아티초크, 햄, 버섯, 올리브\n",
      "   - 특징: 다양한 재료가 조화를 이루어 풍부한 맛을 제공합니다.\n",
      "\n",
      "2. **마리나라 피자**\n",
      "   - 재료: 토마토 소스, 마늘, 오레가노, 올리브 오일\n",
      "   - 특징: 치즈 없이 간단한 재료로 만들어지며, 토마토와 마늘의 진한 맛을 느낄 수 있습니다.\n",
      "\n",
      "3. **프루티 디 마레 피자**\n",
      "   - 재료: 토마토 소스, 모짜렐라 치즈, 해산물(새우, 홍합, 오징어 등)\n",
      "   - 특징: 신선한 해산물이 듬뿍 올라가 바다의 맛을 느낄 수 있는 피자입니다.\n",
      "\n",
      "4. **퀘트로 스타지오니 피자**\n",
      "   - 재료: 토마토 소스, 모짜렐라 치즈, 아티초크, 햄, 버섯, 올리브\n",
      "   - 특징: 네 가지 계절을 상징하는 재료들이 각각의 구역에 나뉘어 올라가 있는 피자입니다.\n",
      "\n",
      "5. **비앙카 피자**\n",
      "   - 재료: 모짜렐라 치즈, 리코타 치즈, 파르미지아노 치즈, 올리브 오일\n",
      "   - 특징: 토마토 소스를 사용하지 않고 치즈와 올리브 오일로만 맛을 낸 피자로, 부드럽고 고소한 맛이 특징입니다.\n",
      "\n",
      "이 피자들 중에서 마음에 드는 것이 있나요? 또는 다른 종류의 피자를 원하시면 말씀해 주세요!\n"
     ]
    }
   ],
   "source": [
    "response = conversation.predict(\n",
    "    # input='hello 피자 한판 주문하고 싶은데 Italian 피자를 추천해줘'\n",
    "    input='너가 추천해준 피자 말고 다른 피자도 추천해줘 마크다운 문법으로'\n",
    ")\n",
    "\n",
    "print(response)"
   ]
  },
  {
   "cell_type": "code",
   "execution_count": null,
   "metadata": {},
   "outputs": [],
   "source": [
    "print(conversation)"
   ]
  }
 ],
 "metadata": {
  "kernelspec": {
   "display_name": "langchain_env",
   "language": "python",
   "name": "python3"
  },
  "language_info": {
   "codemirror_mode": {
    "name": "ipython",
    "version": 3
   },
   "file_extension": ".py",
   "mimetype": "text/x-python",
   "name": "python",
   "nbconvert_exporter": "python",
   "pygments_lexer": "ipython3",
   "version": "3.11.10"
  }
 },
 "nbformat": 4,
 "nbformat_minor": 2
}
