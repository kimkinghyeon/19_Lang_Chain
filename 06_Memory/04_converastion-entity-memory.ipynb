{
 "cells": [
  {
   "cell_type": "markdown",
   "metadata": {},
   "source": [
    "### ConverastionEntityMemory\n",
    "- 특정 Entity 에 대한 사실을 기억한다.\n",
    "\n",
    "**엔티티**\n",
    "- 사람,장소,조직 같은 고유명사나 중요 개념을 의미"
   ]
  }
 ],
 "metadata": {
  "kernelspec": {
   "display_name": "langchain_env",
   "language": "python",
   "name": "python3"
  },
  "language_info": {
   "name": "python",
   "version": "3.11.10"
  }
 },
 "nbformat": 4,
 "nbformat_minor": 2
}
