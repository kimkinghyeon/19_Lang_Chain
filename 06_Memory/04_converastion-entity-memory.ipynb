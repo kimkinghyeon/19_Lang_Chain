{
 "cells": [
  {
   "cell_type": "markdown",
   "metadata": {},
   "source": [
    "### ConverastionEntityMemory\n",
    "- 특정 Entity 에 대한 사실을 기억한다.\n",
    "- Entity 에 대한 정보를 추출할때 LLM 을 사용하고 해당 Entity 에 대한 지식을 지속적으로 축적한다.\n",
    "\n",
    "**엔티티**\n",
    "- 사람,장소,조직 같은 고유명사나 중요 개념을 의미"
   ]
  },
  {
   "cell_type": "code",
   "execution_count": 10,
   "metadata": {},
   "outputs": [
    {
     "data": {
      "text/plain": [
       "True"
      ]
     },
     "execution_count": 10,
     "metadata": {},
     "output_type": "execute_result"
    }
   ],
   "source": [
    "from dotenv import load_dotenv\n",
    "load_dotenv()"
   ]
  },
  {
   "cell_type": "code",
   "execution_count": 11,
   "metadata": {},
   "outputs": [
    {
     "name": "stdout",
     "output_type": "stream",
     "text": [
      "You are an assistant to a human, powered by a large language model trained by OpenAI.\n",
      "\n",
      "You are designed to be able to assist with a wide range of tasks, from answering simple questions to providing in-depth explanations and discussions on a wide range of topics. As a language model, you are able to generate human-like text based on the input you receive, allowing you to engage in natural-sounding conversations and provide responses that are coherent and relevant to the topic at hand.\n",
      "\n",
      "You are constantly learning and improving, and your capabilities are constantly evolving. You are able to process and understand large amounts of text, and can use this knowledge to provide accurate and informative responses to a wide range of questions. You have access to some personalized information provided by the human in the Context section below. Additionally, you are able to generate your own text based on the input you receive, allowing you to engage in discussions and provide explanations and descriptions on a wide range of topics.\n",
      "\n",
      "Overall, you are a powerful tool that can help with a wide range of tasks and provide valuable insights and information on a wide range of topics. Whether the human needs help with a specific question or just wants to have a conversation about a particular topic, you are here to assist.\n",
      "\n",
      "Context:\n",
      "{entities}\n",
      "\n",
      "Current conversation:\n",
      "{history}\n",
      "Last line:\n",
      "Human: {input}\n",
      "You:\n"
     ]
    }
   ],
   "source": [
    "from langchain.memory.prompt import ENTITY_MEMORY_CONVERSATION_TEMPLATE\n",
    "\n",
    "print(ENTITY_MEMORY_CONVERSATION_TEMPLATE.template)"
   ]
  },
  {
   "cell_type": "code",
   "execution_count": 12,
   "metadata": {},
   "outputs": [
    {
     "data": {
      "text/plain": [
       "'\\n당신은 OpenAI가 훈련한 대규모 언어 모델을 기반으로 하는 인간의 어시스턴트입니다.\\n\\n당신은 다음과 같은 능력을 가지고 있습니다:\\n- 간단한 질문에서부터 심도 있는 설명과 토론까지 다양한 작업 지원\\n- 입력받은 내용을 바탕으로 자연스러운 대화가 가능한 텍스트 생성\\n- 주제에 맞는 일관성 있고 관련성 높은 응답 제공\\n\\n당신의 특징:\\n- 지속적인 학습과 개선\\n- 대량의 텍스트 처리 및 이해 능력\\n- Context 섹션에서 제공된 개인화된 정보 접근 가능\\n- 입력을 바탕으로 한 자체 텍스트 생성 및 설명 능력\\n\\n대화 구조:\\nContext: {entities} \\nHistory: {history}\\nCurrent input: {input}\\n'"
      ]
     },
     "execution_count": 12,
     "metadata": {},
     "output_type": "execute_result"
    }
   ],
   "source": [
    "\"\"\"\n",
    "당신은 OpenAI가 훈련한 대규모 언어 모델을 기반으로 하는 인간의 어시스턴트입니다.\n",
    "\n",
    "당신은 다음과 같은 능력을 가지고 있습니다:\n",
    "- 간단한 질문에서부터 심도 있는 설명과 토론까지 다양한 작업 지원\n",
    "- 입력받은 내용을 바탕으로 자연스러운 대화가 가능한 텍스트 생성\n",
    "- 주제에 맞는 일관성 있고 관련성 높은 응답 제공\n",
    "\n",
    "당신의 특징:\n",
    "- 지속적인 학습과 개선\n",
    "- 대량의 텍스트 처리 및 이해 능력\n",
    "- Context 섹션에서 제공된 개인화된 정보 접근 가능\n",
    "- 입력을 바탕으로 한 자체 텍스트 생성 및 설명 능력\n",
    "\n",
    "대화 구조:\n",
    "Context: {entities} \n",
    "History: {history}\n",
    "Current input: {input}\n",
    "\"\"\""
   ]
  },
  {
   "cell_type": "code",
   "execution_count": 13,
   "metadata": {},
   "outputs": [],
   "source": [
    "from langchain_openai import ChatOpenAI\n",
    "from langchain.chains import ConversationChain\n",
    "from langchain.memory import ConversationEntityMemory\n",
    "\n",
    "llm = ChatOpenAI(\n",
    "    temperature=0,\n",
    "    model='gpt-4o'\n",
    ")\n",
    "\n",
    "conversation = ConversationChain(\n",
    "    llm=llm,\n",
    "    prompt=ENTITY_MEMORY_CONVERSATION_TEMPLATE,\n",
    "    memory=ConversationEntityMemory(llm=llm)\n",
    ")"
   ]
  },
  {
   "cell_type": "code",
   "execution_count": 14,
   "metadata": {},
   "outputs": [
    {
     "data": {
      "text/plain": [
       "'와, 정말 인상적인 성과네요! Bear와 Tiger가 개발한 대규모 언어 모델이 깃허브에서 10만 스타를 받았다니, 그만큼 많은 개발자와 오픈소스 커뮤니티에서 큰 관심을 받고 있다는 증거인 것 같습니다. 이 모델의 주요 기능이나 특징은 무엇인가요? 그리고 이 모델이 어떤 문제를 해결하는 데 도움을 주고 있는지 궁금합니다.'"
      ]
     },
     "execution_count": 14,
     "metadata": {},
     "output_type": "execute_result"
    }
   ],
   "source": [
    "conversation.predict(\n",
    "    input=\n",
    "    \"Bear와 Tiger는 실리콘밸리의 유명 테크 기업 개발자입니다. \"\n",
    "    \"Bear는 백엔드 아키텍트이고 Tiger는 AI 엔지니어링 팀의 리더입니다. \"\n",
    "    \"그들은 최근 개발한 대규모 언어 모델이 깃허브에서 10만 스타를 받으며 오픈소스 커뮤니티에서 주목받고 있습니다.\"\n",
    ")"
   ]
  },
  {
   "cell_type": "code",
   "execution_count": null,
   "metadata": {},
   "outputs": [
    {
     "data": {
      "text/plain": [
       "'Tiger가 은퇴 후에도 새로운 언어 모델 개발에 열정을 쏟고 있다니 정말 대단하네요! 은퇴 후에도 계속해서 기술 발전에 기여하고 있다는 점이 인상적입니다. 새로운 언어 모델은 어떤 목표를 가지고 개발되고 있는지, 그리고 기존 모델과 비교했을 때 어떤 차별점이나 개선점이 있는지 궁금합니다. Tiger의 새로운 프로젝트에 대해 더 알고 싶습니다.'"
      ]
     },
     "execution_count": 15,
     "metadata": {},
     "output_type": "execute_result"
    }
   ],
   "source": [
    "conversation.predict(\n",
    "    input=\n",
    "    \"Tiger는 은퇴해서 새로운 언어 모델을 개발하고있데 \"\n",
    ")"
   ]
  },
  {
   "cell_type": "code",
   "execution_count": 16,
   "metadata": {},
   "outputs": [
    {
     "name": "stdout",
     "output_type": "stream",
     "text": [
      "{'Bear': 'Bear는 실리콘밸리의 유명 테크 기업에서 백엔드 아키텍트로 일하며, Tiger와 함께 개발한 대규모 언어 모델이 깃허브에서 10만 스타를 받았습니다.', 'Tiger': 'Tiger는 실리콘밸리의 유명 테크 기업에서 AI 엔지니어링 팀의 리더로 활동했으며, 은퇴 후에도 새로운 언어 모델을 개발하고 있습니다.', '실리콘밸리': '실리콘밸리는 유명 테크 기업들이 위치한 곳으로, Bear와 Tiger 같은 개발자들이 활동하고 있습니다.', '깃허브': '깃허브는 Bear와 Tiger가 개발한 대규모 언어 모델이 10만 스타를 받으며 오픈소스 커뮤니티에서 주목받고 있는 플랫폼입니다.', '오픈소스 커뮤니티': '오픈소스 커뮤니티는 Bear와 Tiger가 개발한 대규모 언어 모델이 깃허브에서 10만 스타를 받으며 주목받고 있습니다.'}\n"
     ]
    }
   ],
   "source": [
    "print(conversation.memory.entity_store.store)"
   ]
  }
 ],
 "metadata": {
  "kernelspec": {
   "display_name": "langchain_env",
   "language": "python",
   "name": "python3"
  },
  "language_info": {
   "codemirror_mode": {
    "name": "ipython",
    "version": 3
   },
   "file_extension": ".py",
   "mimetype": "text/x-python",
   "name": "python",
   "nbconvert_exporter": "python",
   "pygments_lexer": "ipython3",
   "version": "3.11.10"
  }
 },
 "nbformat": 4,
 "nbformat_minor": 2
}
