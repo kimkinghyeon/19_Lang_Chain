{
 "cells": [
  {
   "cell_type": "markdown",
   "metadata": {},
   "source": [
    "### Memory-Datase\n",
    "- 채팅메세지를 SQL 데이터베이스 에 저장하는 클래스\n",
    "\n",
    "**주요기능**\n",
    "- SQL 데이터베이스를 사용해 채팅 기록을 영구적으로 저장\n",
    "- 세션 ID 를 통한 대화 구분 및 관리 가능\n",
    "- SQLAlchemy 를 사용해 다양한 데이터베이스 사용 가능\n",
    "- 메세지 CRUD 가능"
   ]
  },
  {
   "cell_type": "markdown",
   "metadata": {},
   "source": [
    "* session_id : 사용자 이름, 이메일 같이 고유 식별자\n",
    "* connection : 데이터베이스 연결을 지정하는 문자"
   ]
  },
  {
   "cell_type": "code",
   "execution_count": 23,
   "metadata": {},
   "outputs": [],
   "source": [
    "from langchain_community.chat_message_histories import SQLChatMessageHistory\n",
    "\n",
    "# SQLChatMessageHistory 객체 생성\n",
    "chat_message_history = SQLChatMessageHistory(\n",
    "    session_id=\"sql_history\",\n",
    "    connection=\"sqlite:///sqlite.db\"  # SQLite 데이터베이스 연결\n",
    ")\n"
   ]
  },
  {
   "cell_type": "code",
   "execution_count": 24,
   "metadata": {},
   "outputs": [],
   "source": [
    "chat_message_history.add_user_message(\n",
    "    \"안녕 안녕 안녕\"\n",
    ")"
   ]
  },
  {
   "cell_type": "code",
   "execution_count": 25,
   "metadata": {},
   "outputs": [],
   "source": [
    "chat_message_history.add_ai_message(\n",
    "    \"반가워 반가워~\"\n",
    ")"
   ]
  },
  {
   "cell_type": "code",
   "execution_count": 28,
   "metadata": {},
   "outputs": [],
   "source": [
    "from langchain_core.prompts import ChatPromptTemplate , MessagesPlaceholder\n",
    "from langchain_openai import ChatOpenAI\n",
    "from langchain_core.output_parsers import StrOutputParser\n",
    "\n",
    "prompt = ChatPromptTemplate.from_messages(\n",
    "    [\n",
    "        (\"system\",\"you are a helpful assistant\"),\n",
    "        \n",
    "        MessagesPlaceholder(variable_name=\"chat_history\"),\n",
    "        \n",
    "        (\"human\",\"{question}\")\n",
    "    ]\n",
    ")\n",
    "\n",
    "chain = prompt | ChatOpenAI(temperature=0,model='gpt-4o') | StrOutputParser()"
   ]
  },
  {
   "cell_type": "code",
   "execution_count": null,
   "metadata": {},
   "outputs": [],
   "source": [
    "def get_chat_history(user_id,conversation_id):\n",
    "    return SQLChatMessageHistory(\n",
    "        table_name=user_id,\n",
    "        session_id=conversation_id,\n",
    "        connection=\"sqlite:///sqlite.db\"\n",
    "    )"
   ]
  },
  {
   "cell_type": "code",
   "execution_count": 33,
   "metadata": {},
   "outputs": [],
   "source": [
    "from langchain_core.runnables.utils import ConfigurableFieldSpec\n",
    "\n",
    "config_field = [\n",
    "    ConfigurableFieldSpec(\n",
    "        id=\"user_id\",  # 설정값의 고유 식별자\n",
    "        annotation=str,  # 설정값의 데이터 타입\n",
    "        name=\"USER ID\",  # 설정값의 이름\n",
    "        description=\"Unique identifier for a user\",  # 설정값에 대한 설명\n",
    "        default=\"\",  # 기본값\n",
    "        is_shared=True  # 여러 대화에서 공유되는 값인지 여부\n",
    "    ),\n",
    "    ConfigurableFieldSpec(\n",
    "        id=\"conversation_id\",  # 설정값의 고유 식별자\n",
    "        annotation=str,  # 설정값의 데이터 타입\n",
    "        name=\"CONVERSATION ID\",  # 설정값의 이름\n",
    "        description=\"Unique identifier for a conversation\",  # 설정값에 대한 설명\n",
    "        default=\"\",  # 기본값\n",
    "        is_shared=True  # 여러 대화에서 공유되는 값인지 여부\n",
    "    )\n",
    "]\n"
   ]
  },
  {
   "cell_type": "code",
   "execution_count": 35,
   "metadata": {},
   "outputs": [],
   "source": [
    "from langchain_core.runnables.history import RunnableWithMessageHistory\n",
    "\n",
    "chain_with_history = RunnableWithMessageHistory(\n",
    "    chain,\n",
    "    get_chat_history, # 대화기록을 가져오는 함수\n",
    "    input_messages_key=\"question\", # 입력 메세지 키\n",
    "    history_messages_key=\"chat_history\", # 대화 기록 메시지의 키\n",
    "    history_factory_config=config_field # 대화기록 조회시 참고할 파라미터\n",
    ")"
   ]
  },
  {
   "cell_type": "code",
   "execution_count": 37,
   "metadata": {},
   "outputs": [
    {
     "data": {
      "text/plain": [
       "'안녕하세요! 만나서 반갑습니다. 어떻게 도와드릴까요?'"
      ]
     },
     "execution_count": 37,
     "metadata": {},
     "output_type": "execute_result"
    }
   ],
   "source": [
    "config = {\"configurable\":{\"user_id\":\"user\",\"conversation_id\":\"converastion\"}}\n",
    "\n",
    "chain_with_history.invoke({\"question\":\"안녕로봇 반갑다 안녕 안녕 안녕\"},config)"
   ]
  },
  {
   "cell_type": "code",
   "execution_count": 40,
   "metadata": {},
   "outputs": [
    {
     "data": {
      "text/plain": [
       "'아, 그렇군요! 안녕로봇님, 만나서 반갑습니다. 어떻게 도와드릴까요?'"
      ]
     },
     "execution_count": 40,
     "metadata": {},
     "output_type": "execute_result"
    }
   ],
   "source": [
    "config = {\"configurable\":{\"user_id\":\"user\",\"conversation_id\":\"converastion\"}}\n",
    "\n",
    "chain_with_history.invoke({\"question\":\"나의 이름은 안녕로봇이야\"},config)"
   ]
  },
  {
   "cell_type": "code",
   "execution_count": 41,
   "metadata": {},
   "outputs": [
    {
     "data": {
      "text/plain": [
       "'죄송하지만, 저는 당신의 이름을 알 수 없습니다. 하지만 도움이 필요하시면 언제든지 말씀해 주세요!'"
      ]
     },
     "execution_count": 41,
     "metadata": {},
     "output_type": "execute_result"
    }
   ],
   "source": [
    "config = {\"configurable\":{\"user_id\":\"user\",\"conversation_id\":\"converastion2\"}}\n",
    "\n",
    "chain_with_history.invoke({\"question\":\"나의 이름이 뭐야?\"},config)"
   ]
  }
 ],
 "metadata": {
  "kernelspec": {
   "display_name": "langchain_env",
   "language": "python",
   "name": "python3"
  },
  "language_info": {
   "codemirror_mode": {
    "name": "ipython",
    "version": 3
   },
   "file_extension": ".py",
   "mimetype": "text/x-python",
   "name": "python",
   "nbconvert_exporter": "python",
   "pygments_lexer": "ipython3",
   "version": "3.11.10"
  }
 },
 "nbformat": 4,
 "nbformat_minor": 2
}
