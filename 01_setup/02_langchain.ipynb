{
 "cells": [
  {
   "cell_type": "markdown",
   "metadata": {},
   "source": [
    "### LangSmith\n",
    "\n",
    "* LangSmith 어플리케이션의 개발 , 테스트 , 모니터링 및 배포를 위한 플랫폼\n",
    "* LLM 기반어플리케이션의 전체 생명주기를 관리하는데 도움을 받을 수 있다.\n",
    "\n",
    "1. 디버깅 : 복잡한 llm 체인과 에이전트의 실행을 추적하고 시각화\n",
    "2. 테스팅 : 다양한 입력에 대한 모델의 성ㄴ믕을 평가하고 회귀를 방지\n",
    "3. 모니터링 : 프로덕션 환경에서 어플리케이션의 성능과 사용량을 추적"
   ]
  },
  {
   "cell_type": "code",
   "execution_count": 4,
   "metadata": {},
   "outputs": [
    {
     "data": {
      "text/plain": [
       "True"
      ]
     },
     "execution_count": 4,
     "metadata": {},
     "output_type": "execute_result"
    }
   ],
   "source": [
    "from dotenv import load_dotenv\n",
    "\n",
    "load_dotenv(dotenv_path='../.env')"
   ]
  },
  {
   "cell_type": "code",
   "execution_count": 1,
   "metadata": {},
   "outputs": [
    {
     "name": "stdout",
     "output_type": "stream",
     "text": [
      "[답변] : content=\"야돈(英: Slowpoke, 일본어: ヤドン)은 포켓몬스터 시리즈에 등장하는 포켓몬 중 하나로, 1세대 포켓몬입니다. 야돈은 물과 에스퍼 타입을 가진 포켓몬으로, 주로 느긋하고 둔한 성격을 가지고 있습니다. \\n\\n### 기본 정보\\n- **분류**: 느림보 포켓몬\\n- **타입**: 물 / 에스퍼\\n- **진화**: 야돈은 레벨 37에서 야도란(영어: Slowbro)으로 진화하며, 특정 조건을 만족하면 야도란이 야도킹(영어: Slowking)으로 진화할 수 있습니다.\\n\\n### 외형\\n야돈은 핑크색의 몸체를 가진 포켓몬으로, 큰 귀와 둥근 꼬리를 가지고 있습니다. 눈은 크고 둥글며, 항상 느긋한 표정을 짓고 있습니다.\\n\\n### 특징\\n- **느림**: 야돈은 매우 느린 속도로 움직이며, 주로 물가에서 시간을 보내는 것을 좋아합니다.\\n- **특성**: 야돈의 특성 중 하나는 '느림보'로, 이는 야돈이 전투에서 느린 속도로 행동하게 만듭니다. 하지만 이 특성 덕분에 야돈은 상대의 공격을 피할 수 있는 기회를 가질 수 있습니다.\\n- **먹이**: 야돈은 주로 물고기나 해양 생물을 먹으며, 특히 '야돈의 혀'라는 아이템이 유명합니다. 이는 야돈이 먹는 것을 좋아하는 음식으로, 포켓몬 세계에서 다양한 요리에 사용됩니다.\\n\\n### 게임 내 역할\\n야돈은 다양한 포켓몬 게임에서 등장하며, 플레이어가 포획하거나 훈련할 수 있는 포켓몬 중 하나입니다. 또한, 애니메이션과 만화에서도 자주 등장하여 귀여운 캐릭터로 사랑받고 있습니다.\\n\\n야돈은 그 특유의 느긋한 매력과 귀여운 외모로 많은 팬들에게 사랑받는 포켓몬입니다.\" additional_kwargs={'refusal': None} response_metadata={'token_usage': {'completion_tokens': 461, 'prompt_tokens': 18, 'total_tokens': 479, 'completion_tokens_details': {'audio_tokens': None, 'reasoning_tokens': 0}, 'prompt_tokens_details': {'audio_tokens': None, 'cached_tokens': 0}}, 'model_name': 'gpt-4o-mini-2024-07-18', 'system_fingerprint': 'fp_f59a81427f', 'finish_reason': 'stop', 'logprobs': None} id='run-1443a3a3-aa50-4a74-8dea-8cd20852271b-0' usage_metadata={'input_tokens': 18, 'output_tokens': 461, 'total_tokens': 479, 'input_token_details': {'cache_read': 0}, 'output_token_details': {'reasoning': 0}}\n"
     ]
    }
   ],
   "source": [
    "from langchain_openai import ChatOpenAI\n",
    "\n",
    "# 모델 객체 생성\n",
    "llm = ChatOpenAI(\n",
    "    temperature= 0.1 ,\n",
    "    model_name ='gpt-4o-mini'\n",
    ")\n",
    "\n",
    "# 질문 생성\n",
    "question = '포켓몬스터 야돈에 대해 설명해줘'\n",
    "\n",
    "print(f'[답변] : {llm.invoke(question)}')"
   ]
  }
 ],
 "metadata": {
  "kernelspec": {
   "display_name": "langchain_env",
   "language": "python",
   "name": "python3"
  },
  "language_info": {
   "codemirror_mode": {
    "name": "ipython",
    "version": 3
   },
   "file_extension": ".py",
   "mimetype": "text/x-python",
   "name": "python",
   "nbconvert_exporter": "python",
   "pygments_lexer": "ipython3",
   "version": "3.11.10"
  }
 },
 "nbformat": 4,
 "nbformat_minor": 2
}
