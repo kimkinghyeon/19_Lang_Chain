{
 "cells": [
  {
   "cell_type": "markdown",
   "metadata": {},
   "source": [
    "### DocumentLoader\n",
    "\n",
    "**참고 Langchain DocumentK Loader docs**\n",
    "https://python.langchain.com/v0.1/docs/modules/data_connection/document_loaders/\n",
    "\n",
    "### Document\n",
    "- Langchain 에서 만들어 놓은 기본 문서 객체\n",
    "- 속성\n",
    "    - page_content: 문서의 내용을 나타내는 문자열\n",
    "    - metadata : 문서의 메타데이터를 나타내는 딕셔너리"
   ]
  },
  {
   "cell_type": "code",
   "execution_count": null,
   "metadata": {},
   "outputs": [],
   "source": [
    "from langchain_core.documents import Document\n",
    "\n",
    "document = Document(page_content=\"우리가 만든 도큐먼트 !!! \")"
   ]
  }
 ],
 "metadata": {
  "kernelspec": {
   "display_name": "langchain_env",
   "language": "python",
   "name": "python3"
  },
  "language_info": {
   "name": "python",
   "version": "3.11.10"
  }
 },
 "nbformat": 4,
 "nbformat_minor": 2
}
