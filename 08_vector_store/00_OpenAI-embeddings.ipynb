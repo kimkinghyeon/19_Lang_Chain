{
 "cells": [
  {
   "cell_type": "markdown",
   "metadata": {},
   "source": [
    "### OpenAIEmbeddings\n",
    "- 문서의 내용을 수치적인 백터로 변환하는 과정\n",
    "- 문서의 의미를 수치화 , 모델들이 문맥적 정보를 이해 할 수 있게 한다.\n",
    "- 백터화된 문서들은 문서 분류, 감정 분석 , 문서간 유사도 계산에 사용 될 수 있다. "
   ]
  },
  {
   "cell_type": "markdown",
   "metadata": {},
   "source": [
    "지원되는 모델 목록\n",
    "\n",
    "| MODEL                  | PAGES PER DOLLAR | PERFORMANCE ON MTEB EVAL | MAX INPUT |\n",
    "|------------------------|------------------|---------------------------|-----------|\n",
    "| text-embedding-3-small | 62,500           | 62.3%                     | 8191      |\n",
    "| text-embedding-3-large | 9,615            | 64.6%                     | 8191      |\n",
    "| text-embedding-ada-002 | 12,500           | 61.0%                     | 8191      |"
   ]
  },
  {
   "cell_type": "code",
   "execution_count": 19,
   "metadata": {},
   "outputs": [
    {
     "data": {
      "text/plain": [
       "True"
      ]
     },
     "execution_count": 19,
     "metadata": {},
     "output_type": "execute_result"
    }
   ],
   "source": [
    "from dotenv import load_dotenv\n",
    "\n",
    "load_dotenv()"
   ]
  },
  {
   "cell_type": "code",
   "execution_count": 20,
   "metadata": {},
   "outputs": [],
   "source": [
    "from langchain_openai import OpenAIEmbeddings\n",
    "\n",
    "embeddings = OpenAIEmbeddings(model=\"text-embedding-3-small\")"
   ]
  },
  {
   "cell_type": "code",
   "execution_count": 21,
   "metadata": {},
   "outputs": [],
   "source": [
    "text = \"임베딩 테스트 샘플 문장\""
   ]
  },
  {
   "cell_type": "markdown",
   "metadata": {},
   "source": [
    "### 쿼리 임베딩\n",
    "embeddings.embed_query(text) \n",
    "\n",
    "- 주어진 텍스트를 임베딩 벡터로 변환하는 함수\n",
    "- 텍스트를 벡터공간에 매핑해, 의미적으로 유사한 텍스트를 찾거나, 유사도를 계산할때 사용\n"
   ]
  },
  {
   "cell_type": "code",
   "execution_count": 22,
   "metadata": {},
   "outputs": [],
   "source": [
    "query_reulst = embeddings.embed_query(text)"
   ]
  },
  {
   "cell_type": "markdown",
   "metadata": {},
   "source": [
    "**Document 임베딩**\n",
    "\n",
    "embeddings.embed_documents()\n",
    "- 함수를 사용하여 텍스트 문서를 임베딩\n",
    "- [text] 를 인자로 전달해 단일 문서를 리스트 형태로 임베딩 함수에 전달"
   ]
  },
  {
   "cell_type": "code",
   "execution_count": 23,
   "metadata": {},
   "outputs": [],
   "source": [
    "doc_result = embeddings.embed_documents(\n",
    "    [text,text,text,text]\n",
    ")"
   ]
  },
  {
   "cell_type": "code",
   "execution_count": 24,
   "metadata": {},
   "outputs": [
    {
     "data": {
      "text/plain": [
       "4"
      ]
     },
     "execution_count": 24,
     "metadata": {},
     "output_type": "execute_result"
    }
   ],
   "source": [
    "len(doc_result)"
   ]
  },
  {
   "cell_type": "code",
   "execution_count": 25,
   "metadata": {},
   "outputs": [
    {
     "data": {
      "text/plain": [
       "[-0.01682295836508274,\n",
       " 0.034483473747968674,\n",
       " 0.038168732076883316,\n",
       " -0.03393307700753212,\n",
       " 0.006544920150190592]"
      ]
     },
     "execution_count": 25,
     "metadata": {},
     "output_type": "execute_result"
    }
   ],
   "source": [
    "doc_result[0][:5]"
   ]
  },
  {
   "cell_type": "markdown",
   "metadata": {},
   "source": [
    "### 차원지정\n",
    "- text-embeddings-3-small 모델같은 경우 1536 차원의 임베딩을 반환"
   ]
  },
  {
   "cell_type": "code",
   "execution_count": 26,
   "metadata": {},
   "outputs": [
    {
     "data": {
      "text/plain": [
       "1536"
      ]
     },
     "execution_count": 26,
     "metadata": {},
     "output_type": "execute_result"
    }
   ],
   "source": [
    "len(doc_result[0])"
   ]
  },
  {
   "cell_type": "code",
   "execution_count": 40,
   "metadata": {},
   "outputs": [],
   "source": [
    "# 차원이 1024인 text-embedding-3-small 모델 생성\n",
    "embeddings_1024 = OpenAIEmbeddings(model=\"text-embedding-3-small\", dimensions = 1024)"
   ]
  },
  {
   "cell_type": "code",
   "execution_count": 38,
   "metadata": {},
   "outputs": [
    {
     "name": "stdout",
     "output_type": "stream",
     "text": [
      "Collecting scikit-learn\n",
      "  Downloading scikit_learn-1.5.2-cp311-cp311-win_amd64.whl.metadata (13 kB)\n",
      "Requirement already satisfied: numpy>=1.19.5 in c:\\users\\20115\\miniforge3\\envs\\langchain_env\\lib\\site-packages (from scikit-learn) (1.26.4)\n",
      "Collecting scipy>=1.6.0 (from scikit-learn)\n",
      "  Downloading scipy-1.14.1-cp311-cp311-win_amd64.whl.metadata (60 kB)\n",
      "Requirement already satisfied: joblib>=1.2.0 in c:\\users\\20115\\miniforge3\\envs\\langchain_env\\lib\\site-packages (from scikit-learn) (1.4.2)\n",
      "Collecting threadpoolctl>=3.1.0 (from scikit-learn)\n",
      "  Downloading threadpoolctl-3.5.0-py3-none-any.whl.metadata (13 kB)\n",
      "Downloading scikit_learn-1.5.2-cp311-cp311-win_amd64.whl (11.0 MB)\n",
      "   ---------------------------------------- 0.0/11.0 MB ? eta -:--:--\n",
      "   ----------------------------- ---------- 8.1/11.0 MB 41.8 MB/s eta 0:00:01\n",
      "   ---------------------------------------- 11.0/11.0 MB 27.5 MB/s eta 0:00:00\n",
      "Downloading scipy-1.14.1-cp311-cp311-win_amd64.whl (44.8 MB)\n",
      "   ---------------------------------------- 0.0/44.8 MB ? eta -:--:--\n",
      "   ----- ---------------------------------- 6.3/44.8 MB 64.1 MB/s eta 0:00:01\n",
      "   ------------- -------------------------- 14.9/44.8 MB 36.1 MB/s eta 0:00:01\n",
      "   ----------------------- ---------------- 26.2/44.8 MB 42.5 MB/s eta 0:00:01\n",
      "   ------------------------- -------------- 28.3/44.8 MB 34.5 MB/s eta 0:00:01\n",
      "   ------------------------------- -------- 34.9/44.8 MB 33.5 MB/s eta 0:00:01\n",
      "   ---------------------------------------  44.6/44.8 MB 36.3 MB/s eta 0:00:01\n",
      "   ---------------------------------------- 44.8/44.8 MB 32.0 MB/s eta 0:00:00\n",
      "Downloading threadpoolctl-3.5.0-py3-none-any.whl (18 kB)\n",
      "Installing collected packages: threadpoolctl, scipy, scikit-learn\n",
      "Successfully installed scikit-learn-1.5.2 scipy-1.14.1 threadpoolctl-3.5.0\n",
      "Note: you may need to restart the kernel to use updated packages.\n"
     ]
    }
   ],
   "source": [
    "pip install scikit-learn"
   ]
  },
  {
   "cell_type": "code",
   "execution_count": 41,
   "metadata": {},
   "outputs": [
    {
     "data": {
      "text/plain": [
       "1024"
      ]
     },
     "execution_count": 41,
     "metadata": {},
     "output_type": "execute_result"
    }
   ],
   "source": [
    "doc_result_1024 = embeddings_1024.embed_documents([text, text,text,text])\n",
    "len(doc_result_1024[0])"
   ]
  },
  {
   "cell_type": "code",
   "execution_count": 42,
   "metadata": {},
   "outputs": [],
   "source": [
    "sentence1= '안녕 반가워'\n",
    "sentence2= '안녕 반가워!'\n",
    "sentence3= '안녕 반가워 지... 않아!!!!!!!!!!!'\n",
    "sentence4= 'Hi nice to meet you'\n",
    "sentence5= 'I like to eat pizza'"
   ]
  },
  {
   "cell_type": "markdown",
   "metadata": {},
   "source": [
    "코사인 유사도\n",
    "-1 ~1  사이의 값을 반환\n",
    "\n",
    "**의미**\n",
    "- 1에 가까울 수록 더 유사\n",
    "- 0 은 관계없음\n",
    "- -1 반대됨"
   ]
  },
  {
   "cell_type": "code",
   "execution_count": 43,
   "metadata": {},
   "outputs": [],
   "source": [
    "from sklearn.metrics.pairwise import cosine_similarity\n",
    "\n",
    "sentences = [sentence1,sentence2,sentence3,sentence4,sentence5]\n",
    "embedd_sentnence = embeddings_1024.embed_documents(sentences)"
   ]
  },
  {
   "cell_type": "code",
   "execution_count": 44,
   "metadata": {},
   "outputs": [],
   "source": [
    "def similarity(a,b):\n",
    "    return cosine_similarity([a],[b])[0][0]"
   ]
  },
  {
   "cell_type": "code",
   "execution_count": 46,
   "metadata": {},
   "outputs": [
    {
     "name": "stdout",
     "output_type": "stream",
     "text": [
      "[유사도 0.9234] 안녕 반가워 \t <=====> \t 안녕 반가워!\n",
      "[유사도 0.7668] 안녕 반가워 \t <=====> \t 안녕 반가워 지... 않아!!!!!!!!!!!\n",
      "[유사도 0.3546] 안녕 반가워 \t <=====> \t Hi nice to meet you\n",
      "[유사도 0.0719] 안녕 반가워 \t <=====> \t I like to eat pizza\n",
      "[유사도 0.7494] 안녕 반가워! \t <=====> \t 안녕 반가워 지... 않아!!!!!!!!!!!\n",
      "[유사도 0.3537] 안녕 반가워! \t <=====> \t Hi nice to meet you\n",
      "[유사도 0.0668] 안녕 반가워! \t <=====> \t I like to eat pizza\n",
      "[유사도 0.2632] 안녕 반가워 지... 않아!!!!!!!!!!! \t <=====> \t Hi nice to meet you\n",
      "[유사도 0.0411] 안녕 반가워 지... 않아!!!!!!!!!!! \t <=====> \t I like to eat pizza\n",
      "[유사도 0.2273] Hi nice to meet you \t <=====> \t I like to eat pizza\n"
     ]
    }
   ],
   "source": [
    "for i, sentence in enumerate(embedd_sentnence):\n",
    "    for j, other_sentence in enumerate(embedd_sentnence):\n",
    "        if i < j:\n",
    "            print(\n",
    "                f\"[유사도 {similarity(sentence, other_sentence):.4f}] {sentences[i]} \\t <=====> \\t {sentences[j]}\"\n",
    "            )"
   ]
  }
 ],
 "metadata": {
  "kernelspec": {
   "display_name": "langchain_env",
   "language": "python",
   "name": "python3"
  },
  "language_info": {
   "codemirror_mode": {
    "name": "ipython",
    "version": 3
   },
   "file_extension": ".py",
   "mimetype": "text/x-python",
   "name": "python",
   "nbconvert_exporter": "python",
   "pygments_lexer": "ipython3",
   "version": "3.11.10"
  }
 },
 "nbformat": 4,
 "nbformat_minor": 2
}
