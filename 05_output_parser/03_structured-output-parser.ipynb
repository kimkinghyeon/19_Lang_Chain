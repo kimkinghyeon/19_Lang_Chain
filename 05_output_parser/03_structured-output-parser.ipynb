{
 "cells": [
  {
   "cell_type": "markdown",
   "metadata": {},
   "source": [
    "### structured-output-parser\n",
    "* LLM 나오는 답변을 dict 형식으로 구성해ㅈ준다.\n",
    "* key/value 쌍으로 필드를 반환하고 싶을때 사용 할 수 있다.\n",
    "* Gpt-4 또는 Calude 모델보다 파라미터수가 적은 로컬모델들 같은 경우에 효과적이다.\n"
   ]
  },
  {
   "cell_type": "code",
   "execution_count": 1,
   "metadata": {},
   "outputs": [
    {
     "data": {
      "text/plain": [
       "True"
      ]
     },
     "execution_count": 1,
     "metadata": {},
     "output_type": "execute_result"
    }
   ],
   "source": [
    "from dotenv import load_dotenv\n",
    "\n",
    "load_dotenv()"
   ]
  },
  {
   "cell_type": "code",
   "execution_count": 2,
   "metadata": {},
   "outputs": [],
   "source": [
    "from langchain.output_parsers import ResponseSchema,StructuredOutputParser\n",
    "\n",
    "response_schema = (\n",
    "    ResponseSchema(name=\"answer\",description=\"사용자 질문에 대한 답변\"),\n",
    "    ResponseSchema(\n",
    "        name=\"source\",\n",
    "        description=\"사용자의 질문에 답하기 위해 사용된 '출처', '웹사이트주소' 이어야한다. \"\n",
    "    )\n",
    ")\n",
    "\n",
    "# 응답 스키마를 기반으로 StructuredOutputParser 생성\n",
    "output_parser = StructuredOutputParser.from_response_schemas(response_schema)"
   ]
  },
  {
   "cell_type": "code",
   "execution_count": 4,
   "metadata": {},
   "outputs": [
    {
     "name": "stdout",
     "output_type": "stream",
     "text": [
      "The output should be a markdown code snippet formatted in the following schema, including the leading and trailing \"```json\" and \"```\":\n",
      "\n",
      "```json\n",
      "{\n",
      "\t\"answer\": string  // 사용자 질문에 대한 답변\n",
      "\t\"source\": string  // 사용자의 질문에 답하기 위해 사용된 '출처', '웹사이트주소' 이어야한다. \n",
      "}\n",
      "```\n"
     ]
    }
   ],
   "source": [
    "from langchain_core.prompts import PromptTemplate\n",
    "\n",
    "format_instructions = output_parser.get_format_instructions()\n",
    "\n",
    "print(format_instructions)\n",
    "\n",
    "prompt = PromptTemplate(\n",
    "    template=\"answer the question as beset as possible \\n {format_instructions} \\n Question\\n {question}\",\n",
    "    input_variables=[\"question\"],\n",
    "    partial_variables={\"format_instructions\": format_instructions}\n",
    ")"
   ]
  },
  {
   "cell_type": "code",
   "execution_count": 8,
   "metadata": {},
   "outputs": [],
   "source": [
    "from langchain_openai import ChatOpenAI\n",
    "model = ChatOpenAI(temperature=0,model=\"gpt-4o\")\n",
    "chain = prompt | model | output_parser"
   ]
  },
  {
   "cell_type": "code",
   "execution_count": 11,
   "metadata": {},
   "outputs": [
    {
     "name": "stdout",
     "output_type": "stream",
     "text": [
      "{'answer': 'Ollama는 인공지능 및 머신러닝 모델을 개발하고 배포하는 플랫폼으로, 사용자가 쉽게 AI 모델을 구축하고 활용할 수 있도록 다양한 도구와 서비스를 제공합니다.', 'source': 'https://ollama.com'}\n"
     ]
    }
   ],
   "source": [
    "print(chain.invoke({\"question\":\"Ollama 를 한글로 설명해줘\"}))"
   ]
  }
 ],
 "metadata": {
  "kernelspec": {
   "display_name": "langchain_env",
   "language": "python",
   "name": "python3"
  },
  "language_info": {
   "codemirror_mode": {
    "name": "ipython",
    "version": 3
   },
   "file_extension": ".py",
   "mimetype": "text/x-python",
   "name": "python",
   "nbconvert_exporter": "python",
   "pygments_lexer": "ipython3",
   "version": "3.11.10"
  }
 },
 "nbformat": 4,
 "nbformat_minor": 2
}
