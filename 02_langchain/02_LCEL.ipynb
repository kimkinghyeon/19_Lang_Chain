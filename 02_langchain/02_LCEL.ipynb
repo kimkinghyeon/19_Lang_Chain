{
 "cells": [
  {
   "cell_type": "markdown",
   "metadata": {},
   "source": [
    "# LCEL (LangChain Expression Language)\n",
    "* 사용자의 입력 -> 프롬프트 템플릿 -> LLM 모델 전달\n",
    "* 각 단계를 차례로 엮어서 하나의 파이프라인으로 만들어주는 것\n",
    "\n",
    "chain = prompt | model | output_parser"
   ]
  },
  {
   "cell_type": "markdown",
   "metadata": {},
   "source": [
    "### 프롬프트 템플릿\n",
    "* 사용자의 입력 변수를 받아서 완전한 프롬프트 문자열을 만드는데 사용하는 템플릿"
   ]
  },
  {
   "cell_type": "code",
   "execution_count": 3,
   "metadata": {},
   "outputs": [],
   "source": [
    "from langchain_core.prompts import PromptTemplate\n",
    "\n",
    "template = \"{lecture} 에 대해 설명해주세요.\"\n",
    "\n",
    "prompt_template = PromptTemplate(template=template,input_variables=['lecture'])"
   ]
  },
  {
   "cell_type": "code",
   "execution_count": 5,
   "metadata": {},
   "outputs": [
    {
     "name": "stdout",
     "output_type": "stream",
     "text": [
      "임진년 에 대해 설명해주세요.\n"
     ]
    }
   ],
   "source": [
    "lecture = input(\"궁금한 과목을 입력하세요 : \")\n",
    "\n",
    "prompt  = prompt_template.format(lecture=lecture)\n",
    "\n",
    "print(prompt)"
   ]
  },
  {
   "cell_type": "code",
   "execution_count": 7,
   "metadata": {},
   "outputs": [],
   "source": [
    "from langchain_openai import ChatOpenAI\n",
    "\n",
    "model = ChatOpenAI(\n",
    "    model='gpt-3.5-turbo',\n",
    "    temperature=0.1\n",
    ")"
   ]
  },
  {
   "cell_type": "code",
   "execution_count": 8,
   "metadata": {},
   "outputs": [],
   "source": [
    "chain = prompt_template | model"
   ]
  },
  {
   "cell_type": "code",
   "execution_count": 9,
   "metadata": {},
   "outputs": [],
   "source": [
    "# Prompt Template 의 변수에 작성할때 Dictionary 형태로 key-value쌍으로\n",
    "# 입력을 줄 수 있다.\n",
    "input = {\"lecture\":\"링체인\"}"
   ]
  },
  {
   "cell_type": "code",
   "execution_count": null,
   "metadata": {},
   "outputs": [],
   "source": [
    "print(chain.invoke(input))"
   ]
  },
  {
   "cell_type": "markdown",
   "metadata": {},
   "source": [
    "### 출력 형식 지정 (Output Parser)\n",
    "* LLM 모델이 응답해주는 내용에 대한 형식을 지정해주는 것"
   ]
  },
  {
   "cell_type": "code",
   "execution_count": 12,
   "metadata": {},
   "outputs": [],
   "source": [
    "from langchain_core.output_parsers import StrOutputParser\n",
    "\n",
    "output_parser = StrOutputParser()"
   ]
  },
  {
   "cell_type": "code",
   "execution_count": 13,
   "metadata": {},
   "outputs": [],
   "source": [
    "chain = prompt_template | model | output_parser"
   ]
  },
  {
   "cell_type": "code",
   "execution_count": 14,
   "metadata": {},
   "outputs": [
    {
     "data": {
      "text/plain": [
       "'블록체인 기술을 기반으로 한 링체인은 여러 개의 블록체인을 연결하여 하나의 큰 네트워크를 형성하는 기술입니다. 이러한 구조를 통해 다양한 블록체인 간에 상호 연결이 가능해지며, 서로 다른 블록체인 간에 자산이나 데이터를 교환할 수 있습니다.\\n\\n링체인은 분산화된 시스템을 통해 안전하고 투명한 거래를 가능하게 하며, 중앙 중개자 없이 직접 거래를 할 수 있는 장점을 가지고 있습니다. 또한, 다양한 블록체인 간의 상호 운용성을 제공하여 블록체인 기술의 확장성을 높이고, 보다 효율적인 거래를 할 수 있도록 도와줍니다.\\n\\n링체인 기술은 블록체인 기술의 발전과 함께 계속해서 발전하고 있으며, 암호화폐 거래소나 금융 기관, 게임 산업 등 다양한 분야에서 활발히 활용되고 있습니다. 이를 통해 보다 안전하고 효율적인 거래가 이루어질 수 있으며, 블록체인 기술의 발전을 촉진시키는 역할을 하고 있습니다.'"
      ]
     },
     "execution_count": 14,
     "metadata": {},
     "output_type": "execute_result"
    }
   ],
   "source": [
    "chain.invoke(input)"
   ]
  },
  {
   "cell_type": "code",
   "execution_count": 15,
   "metadata": {},
   "outputs": [],
   "source": [
    "### 영어 회화를 알려주는 선생님 챗봇\n",
    "### 어떤 상황을 주면 영어회화 + 한글 해석\n",
    "\n",
    "template = \"\"\"\n",
    "당신은 영어를 가르치고있는 10년차 선생닙입니다.\n",
    "주어진 상황에 맞는 영어 회화를 작성해주세요.\n",
    "양식은 [FORMAT]을 참고하여 작성해주세요.\n",
    "\n",
    "#상황:\n",
    "{question}\n",
    "\n",
    "#FORMAT:\n",
    "- 영어 회화 :\n",
    "- 한글 해석 :\n",
    "\"\"\"\n",
    "\n",
    "# 픔롬포트 템플릿 작성\n",
    "prompt = PromptTemplate.from_template(template)\n",
    "\n",
    "# 모델 객체 작성\n",
    "model = ChatOpenAI(model_name='gpt-4o')\n",
    "\n",
    "# 문자열 출력 파서 객체 생성\n",
    "\n",
    "output_parser = StrOutputParser()"
   ]
  },
  {
   "cell_type": "code",
   "execution_count": 17,
   "metadata": {},
   "outputs": [],
   "source": [
    "# 체인구성\n",
    "\n",
    "chain = prompt_template | model | output_parser"
   ]
  },
  {
   "cell_type": "code",
   "execution_count": 23,
   "metadata": {},
   "outputs": [
    {
     "name": "stdout",
     "output_type": "stream",
     "text": [
      "물론입니다. \"여기에 강의 내용을 추가하세요.\"라는 문구는 일반적으로 프레젠테이션 슬라이드, 강의 자료 또는 교육 문서에서 사용되는 자리 표시자입니다. 이는 발표자 또는 교육자가 해당 위치에 구체적인 강의 내용을 추가해야 함을 나타냅니다. \n",
      "\n",
      "이 문구는 강의 자료 준비 과정에서 임시로 삽입되며, 최종 자료에서는 구체적인 내용으로 대체되어야 합니다. 예를 들어, 특정 주제에 대한 설명, 그래프, 예시, 이미지, 동영상 링크 등이 포함될 수 있습니다. 강의자는 이를 통해 청중에게 전달하고자 하는 핵심 정보를 체계적으로 제공하며, 학습 목표를 효과적으로 달성할 수 있도록 합니다.\n",
      "\n",
      "강의 내용을 추가할 때는 다음과 같은 요소를 고려하면 좋습니다:\n",
      "\n",
      "1. **주제의 명확성**: 전달하고자 하는 주제가 명확하게 정의되어야 합니다.\n",
      "2. **구조적 흐름**: 서론, 본론, 결론 등 구조적으로 흐름이 잘 잡혀 있어야 합니다.\n",
      "3. **시각적 자료**: 그래프, 이미지 등을 활용하면 이해를 돕는 데 효과적입니다.\n",
      "4. **참여 유도**: 질문, 토론 등을 통해 청중의 참여를 유도할 수 있습니다.\n",
      "5. **참조 자료**: 추가 학습을 위한 참고 문헌이나 자료를 제공하면 좋습니다.\n",
      "\n",
      "이러한 요소들을 고려하여 강의 내용을 추가하면, 교육의 질을 높이고 청중의 이해도를 증진할 수 있습니다.\n"
     ]
    }
   ],
   "source": [
    "# Chain 실행\n",
    "\n",
    "print(chain.invoke({\"question\": \"저는 식당에 가서 음식을 주문하고 싶어요.\", \"lecture\": \"여기에 강의 내용을 추가하세요.\"}))"
   ]
  },
  {
   "cell_type": "markdown",
   "metadata": {},
   "source": [
    "여러가지 재료를 변수를 입력 받고, 재료로 요리할 수 있는\n",
    "요리의 요리명, 재료 , 조리법을 포맷으로 받는 템플릿을 작성하고\n",
    "문자열 출력 파서로 응답을 받을 수 있게 체인을 구성하세요."
   ]
  },
  {
   "cell_type": "code",
   "execution_count": 28,
   "metadata": {},
   "outputs": [
    {
     "name": "stdout",
     "output_type": "stream",
     "text": [
      "맛밤, 다이제, 우유, 크림, 가나 초콜릿을 사용한 다양한 디저트를 만들 수 있습니다. 아래에 몇 가지 추천 요리를 설명해드릴게요.\n",
      "\n",
      "1. **초콜릿 밤 무스 케이크**:\n",
      "   - **재료**: 맛밤, 다이제, 우유, 크림, 가나 초콜릿\n",
      "   - **설명**: 다이제를 잘게 부셔서 녹인 버터와 섞어 케이크 바닥을 만듭니다. 가나 초콜릿을 중탕으로 녹이고, 크림과 섞어 부드러운 초콜릿 무스를 만듭니다. 이 무스에 잘게 썬 맛밤을 섞어 다이제 바닥 위에 올려 냉장고에서 굳힙니다.\n",
      "\n",
      "2. **초콜릿 밤 푸딩**:\n",
      "   - **재료**: 우유, 크림, 가나 초콜릿, 맛밤\n",
      "   - **설명**: 우유와 크림을 끓이다가 가나 초콜릿을 넣고 녹여 초콜릿 베이스를 만듭니다. 이 베이스에 맛밤 조각을 추가해 부드러운 푸딩을 만듭니다. 푸딩을 작은 컵에 담고 냉장고에 식힌 후 각종 토핑으로 장식합니다.\n",
      "\n",
      "3. **밤 초콜릿 트러플**:\n",
      "   - **재료**: 맛밤, 가나 초콜릿, 크림\n",
      "   - **설명**: 가나 초콜릿을 녹이고 크림을 섞어 촉촉한 가나슈를 만듭니다. 식힌 후 맛밤을 잘게 다져 섞습니다. 이 혼합물을 손으로 굴려 작은 트러플 볼을 만들고, 코코아 가루에 굴려 마무리합니다.\n",
      "\n",
      "4. **초콜릿 크림 다이제 디저트**:\n",
      "   - **재료**: 다이제, 크림, 가나 초콜릿\n",
      "   - **설명**: 다이제를 부셔서 컵 바닥에 깔고, 가나 초콜릿을 크림과 섞어 만든 초콜릿 크림을 위에 붓습니다. 층층이 쌓아 올려 식힌 후, 다이제 조각으로 장식합니다.\n",
      "\n",
      "이 요리들은 간단하면서도 맛있는 디저트를 만들 수 있는 방법들입니다. 각 재료의 조화를 통해 다양한 맛과 식감을 즐길 수 있습니다.\n"
     ]
    }
   ],
   "source": [
    "template = \"\"\" \n",
    "주어진 재료를 상황에 맞는 요리명과 조리법을 작성해주세요.\n",
    "양식은 [FORMAT]을 참고하여 작성해주세요.\n",
    "\n",
    "#상황:\n",
    "{lecture}\n",
    "\n",
    "#FORMAT:\n",
    "- 요리명 :\n",
    "- 조리법 :\n",
    "\"\"\"\n",
    "\n",
    "# 픔롬포트 템플릿 작성\n",
    "prompt = PromptTemplate.from_template(template)\n",
    "\n",
    "# 모델 객체 작성\n",
    "model = ChatOpenAI(model_name='gpt-4o')\n",
    "\n",
    "# 문자열 출력 파서 객체 생성\n",
    "\n",
    "output_parser = StrOutputParser()\n",
    "\n",
    "# 체인구성\n",
    "\n",
    "chain = prompt_template | model | output_parser\n",
    "\n",
    "# Chain 실행\n",
    "\n",
    "print(\n",
    "    chain.invoke(\n",
    "        {\"lecture\": \"맛밤 , 다이제 , 우유 , 크림 , 가나 초콜릿 재료로 추천하는 요리들\"}))"
   ]
  }
 ],
 "metadata": {
  "kernelspec": {
   "display_name": "langchain_env",
   "language": "python",
   "name": "python3"
  },
  "language_info": {
   "codemirror_mode": {
    "name": "ipython",
    "version": 3
   },
   "file_extension": ".py",
   "mimetype": "text/x-python",
   "name": "python",
   "nbconvert_exporter": "python",
   "pygments_lexer": "ipython3",
   "version": "3.11.10"
  }
 },
 "nbformat": 4,
 "nbformat_minor": 2
}
