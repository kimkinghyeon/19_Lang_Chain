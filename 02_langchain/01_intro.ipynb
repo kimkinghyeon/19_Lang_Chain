{
 "cells": [
  {
   "cell_type": "markdown",
   "metadata": {},
   "source": [
    "### LangChain 이란?\n",
    "* 대규모의 언어모델로 구동되는 어플리케이션을 개발하기 위한 프레임워크"
   ]
  },
  {
   "cell_type": "code",
   "execution_count": null,
   "metadata": {},
   "outputs": [],
   "source": [
    "from dotenv import load_dotenv\n",
    "\n",
    "load_dotenv(dotenv_path='../.env')"
   ]
  },
  {
   "cell_type": "markdown",
   "metadata": {},
   "source": [
    "### ChatOpenAI\n",
    "*OpenAI 사에서 제공해주는 LLM API를 사용하게 해주는 객체\n",
    "\n",
    "**model_name**\n",
    "* 사용할 LLM 모델의 이름\n",
    "\n",
    "**max_tokens**\n",
    "* 모델이 생설할 토큰의 최대 개수\n",
    "\n",
    "**temperature**\n",
    "* 모델의 창의성을 조절하는 매개변수\n",
    "* 0.0 ~ 2.0 사이의 값을 가짐\n",
    "* 0.0에 가까울 수록 예측이 정확하고, 2.0에 가까울 수록 창의적으로 변한다."
   ]
  },
  {
   "cell_type": "code",
   "execution_count": null,
   "metadata": {},
   "outputs": [],
   "source": [
    "from langchain_openai import ChatOpenAI\n",
    "\n",
    "# 모델 객체 생성\n",
    "model = ChatOpenAI(\n",
    "    model_name='gpt-4o-mini',\n",
    "    temperature=0.1,\n",
    "    max_tokens=100\n",
    ")\n",
    "\n",
    "question = '랭체인에 대해 설명해줄 조선의 임금 세종대왕님 나와주세요'\n",
    "\n",
    "print(f\"[답변] : {model.invoke(question)}\")\n",
    "\n",
    "# completion_tokens : 답변에 쓰인 토큰수\n",
    "# prompt_token : 프롬포트 입력에 쓰인 토큰수\n"
   ]
  },
  {
   "cell_type": "markdown",
   "metadata": {},
   "source": [
    "### ContextWindow\n",
    "* 입력과 출력을 처리할 수 있는 최대 토큰 수\n",
    "* LLM 모델이 한번에 처리 할 수 있는 최대 토큰수를 의미\n",
    "\n",
    "### Max Output Tokens\n",
    "* LLM 모델이 생성할 수 있는 최대 토큰 수\n",
    "* 최대로 답변할 수 있는  길이가 제한됨\n",
    "\n",
    "=> \\Context Window는 답변과 출력을 모두 포함하는 토큰 수 이다.  \n",
    "=> 하지만 입력할 수 있는 토큰의 갯수가 훨씬 더 많다.\n",
    "\n",
    "**가격**\n",
    "* 답변이 더 비싸다.\n",
    "* 입력이 많아도 출력이 적으면 비용이 적게 든다."
   ]
  }
 ],
 "metadata": {
  "kernelspec": {
   "display_name": "langchain_env",
   "language": "python",
   "name": "python3"
  },
  "language_info": {
   "codemirror_mode": {
    "name": "ipython",
    "version": 3
   },
   "file_extension": ".py",
   "mimetype": "text/x-python",
   "name": "python",
   "nbconvert_exporter": "python",
   "pygments_lexer": "ipython3",
   "version": "3.11.10"
  }
 },
 "nbformat": 4,
 "nbformat_minor": 2
}
